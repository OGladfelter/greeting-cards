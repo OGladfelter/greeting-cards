{
 "cells": [
  {
   "cell_type": "code",
   "execution_count": null,
   "id": "2be12cd9",
   "metadata": {},
   "outputs": [],
   "source": [
    "# Author: Oliver Gladfelter\n",
    "# Date: Jan 3, 2022"
   ]
  },
  {
   "cell_type": "code",
   "execution_count": 32,
   "id": "f324c4fb",
   "metadata": {},
   "outputs": [],
   "source": [
    "import pandas as pd\n",
    "import re\n",
    "from selenium import webdriver\n",
    "import time\n",
    "import matplotlib.pyplot as plt\n",
    "plt.rcParams['axes.facecolor'] = 'black'\n",
    "import os\n",
    "import math\n",
    "\n",
    "import warnings\n",
    "warnings.filterwarnings('ignore')"
   ]
  },
  {
   "cell_type": "code",
   "execution_count": 111,
   "id": "cfdc469e",
   "metadata": {},
   "outputs": [],
   "source": [
    "# open game in python-controlled session\n",
    "DRIVER_PATH = '../../chromedriver'\n",
    "driver = webdriver.Chrome(executable_path=DRIVER_PATH)\n",
    "\n",
    "# start at log in page, where website prompts for account info\n",
    "driver.get(\"https://www.hallmark.com/card/boys\")\n",
    "\n",
    "card_images = []"
   ]
  },
  {
   "cell_type": "code",
   "execution_count": 207,
   "id": "56d66c92",
   "metadata": {},
   "outputs": [],
   "source": [
    "def getImagesOnOnePage():\n",
    "    \"\"\"\n",
    "    iterate over every image on a page and concat image URLs into a list\n",
    "    \"\"\"\n",
    "    # Hallmark uses lazy loading, so we need to simulate an entire page scroll - slowly - to get everything to load\n",
    "    y = 1000 # pixels down page\n",
    "    for timer in range(0,5):\n",
    "        driver.execute_script(\"window.scrollTo(0, \"+str(y)+\")\")\n",
    "        y += 1000  \n",
    "        time.sleep(1)\n",
    "\n",
    "    # now all the pages are loaded and we're ready to grab them\n",
    "    cards = driver.find_elements_by_class_name('image')\n",
    "\n",
    "    card_images = []\n",
    "    for card in cards:\n",
    "        card_images.append(card.get_attribute('src'))\n",
    "    return card_images\n",
    "\n",
    "def allImagesFromCategory(category):\n",
    "    \"\"\"\n",
    "    iterate over all pages in a category, save all image URLs to a csv file\n",
    "    \"\"\"\n",
    "    card_images += getImagesOnOnePage()\n",
    "    nextPageButton = driver.find_element_by_class_name('pagination-controls').find_elements_by_class_name('btn-icon')[1]\n",
    "\n",
    "    while nextPageButton.get_attribute('disabled') != 'true':\n",
    "        driver.execute_script(\"window.scrollTo(0, 0)\")\n",
    "        nextPageButton.click()\n",
    "        time.sleep(1)\n",
    "        card_images += getImagesOnOnePage()\n",
    "        time.sleep(1)\n",
    "        \n",
    "    df = pd.DataFrame(card_images, columns=['url'])\n",
    "    df['category'] = category\n",
    "    df.to_csv(\"data/image_URLs_by_category/\" + category + \".csv\", index = False)"
   ]
  }
 ],
 "metadata": {
  "kernelspec": {
   "display_name": "Python 3",
   "language": "python",
   "name": "python3"
  },
  "language_info": {
   "codemirror_mode": {
    "name": "ipython",
    "version": 3
   },
   "file_extension": ".py",
   "mimetype": "text/x-python",
   "name": "python",
   "nbconvert_exporter": "python",
   "pygments_lexer": "ipython3",
   "version": "3.8.8"
  }
 },
 "nbformat": 4,
 "nbformat_minor": 5
}
